{
 "cells": [
  {
   "cell_type": "markdown",
   "metadata": {},
   "source": [
    "# Warm Up - Birthday Paradox\n",
    "\n",
    "### generate_date(month, year)\n",
    "\n"
   ]
  },
  {
   "cell_type": "code",
   "execution_count": 10,
   "metadata": {},
   "outputs": [],
   "source": [
    "import random as rd "
   ]
  },
  {
   "cell_type": "code",
   "execution_count": null,
   "metadata": {},
   "outputs": [],
   "source": [
    "def generate_date(month, year):\n",
    "    \n",
    "    if month == (1,3,5,7,8,10,12):\n",
    "        day = rd.randint(1,31)\n",
    "   \n",
    "    elif month==2:\n",
    "        if year%4==0 or \n",
    "        if year%100==0\n",
    "        if year%400==0:\n",
    "            day = rd.randint(1,29)\n",
    "        else:\n",
    "            day=rd.randint(1,28)    \n",
    "    day = random.randint(1,29)\n",
    "\n",
    "    else:\n",
    "        day = rd.randint(1,28)\n",
    "    else:\n",
    "        day = rd.randint(1,30)\n",
    "    if len(str(month)) == 1:\n",
    "        str_day = '0' + str(month)\n",
    "    else:\n",
    "        str_month = str(month)\n",
    "    if len(str(day)) ==1: \n",
    "        str_dat = '0' +s str(day)\n",
    "    else:\n",
    "        str_day = str(day)\n",
    "    int (month)\n",
    "    int (year)\n",
    "    int (day)\n",
    "    \n",
    "    return_string = str(month) + \"/\" + str(day) + \"/\" + str(year)\n",
    "    \n",
    "    print(return_string)\n",
    "    return(return_string)"
   ]
  },
  {
   "cell_type": "code",
   "execution_count": null,
   "metadata": {},
   "outputs": [],
   "source": [
    "print(generate_date())"
   ]
  },
  {
   "cell_type": "markdown",
   "metadata": {},
   "source": [
    "### 1.2"
   ]
  },
  {
   "cell_type": "code",
   "execution_count": null,
   "metadata": {},
   "outputs": [],
   "source": [
    "date_list = [\"12/28/1999\",\"08/03/1956\",\"07/10/1992\",\"08/03/2004\",\"07/10/2000\",\"12/28/1974\",\"12/28/2000\"]\n",
    "def check_match(date_list):\n",
    "    num_matches = 0\n",
    "    for n in range(len(dates)):\n",
    "        date = dates[n]\n",
    "        birthdat = date[0:5]\n",
    "        for i in range(n+1, len(dates)):\n",
    "            if birthdate == dates[i][0:5]:\n",
    "                if birthdate not in matching_bdays:\n",
    "                    num_matches += 1\n",
    "                    matching_bdays.append(birthdate)\n",
    "                       my_tuple = (match_count, list_bday)\n",
    "    return(my_tuple)"
   ]
  },
  {
   "cell_type": "markdown",
   "metadata": {},
   "source": [
    "### 1.3"
   ]
  },
  {
   "cell_type": "code",
   "execution_count": null,
   "metadata": {},
   "outputs": [],
   "source": [
    "tirlas = int(input(\"Number of trials\"))\n",
    "bdays = int(input(\"Number of birthdays for each trial\"))\n",
    "num_match = 0\n",
    "\n",
    "for n in range(trials):\n",
    "    dates = []\n",
    "    for i in range(bdays):\n",
    "        m = rd.randint(1,12)\n",
    "        y = rd.randint(1903,2019)\n",
    "        dates.append(generate_date(m, y))\n",
    "        \n",
    "    sol = check_match(dates)\n",
    "    if sol[0] >= 1:\n",
    "        num_matches += 1\n",
    "    print(\"Matches: \" + str(sol[0]))\n",
    "    \n",
    "    clean_list = str(sol[1])\n",
    "    clean_list = clean_list[1:len(clean_list)=1]\n",
    "    print(\"Matching birthdays: \"+ clean_list)\n",
    "    \n",
    "percentage = num_matches/trials\n",
    "print(\"Percentage of trials with at least one match: \" + str(percentage*100)+ \"%\""
   ]
  },
  {
   "cell_type": "code",
   "execution_count": null,
   "metadata": {},
   "outputs": [],
   "source": []
  }
 ],
 "metadata": {
  "kernelspec": {
   "display_name": "Python 3",
   "language": "python",
   "name": "python3"
  },
  "language_info": {
   "codemirror_mode": {
    "name": "ipython",
    "version": 3
   },
   "file_extension": ".py",
   "mimetype": "text/x-python",
   "name": "python",
   "nbconvert_exporter": "python",
   "pygments_lexer": "ipython3",
   "version": "3.7.1"
  }
 },
 "nbformat": 4,
 "nbformat_minor": 2
}
